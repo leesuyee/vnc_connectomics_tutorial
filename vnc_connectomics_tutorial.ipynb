{
 "cells": [
  {
   "cell_type": "markdown",
   "id": "574ddb73",
   "metadata": {},
   "source": [
    "<div style=\"border-left: 3px solid #000; padding: 1px; padding-left: 10px; background: #F0FAFF; \">\n",
    "\n",
    "### Fly Ventral Nerve Cord Connectomics Tutorial \n",
    "\n",
    "This tutorial provides an introduction to accessing and analyzing a connectomics dataset of the female adult nerve cord (FANC) in the fruit fly. You can learn more about the FANC dataset __[here](https://connectomics.hms.harvard.edu/project1)__. The full dataset can be accessed through Connectome Accessing Versioning Engine (CAVE), a platform that supports large-scale connectomics datasets. More information on CAVE can be found here: __[github]( https://github.com/CAVEconnectome)__, __[preprint](https://www.biorxiv.org/content/10.1101/2023.07.26.550598v1)__. <br> \n",
    "    \n",
    "The FANC dataset is still in production mode and requires a CAVE account and permissions to access. In this tutorial, we will work with a small part of the dataset (available for download here) and provides and introduction to connectomics analysis and working with datasets hosted on CAVE. Specifically, we will investigate the connectivity and circuitry of leg somatosensory neurons in the fruit fly. \n",
    "    \n",
    "#### Learning Objectives: \n",
    "\n",
    "1. Introduction to FANC dataset\n",
    "2. Perform basic queries of neurons of interest (e.g. find presynaptic and postsynaptic partners) \n",
    "3. Generate connectivity matrices \n",
    "4. Reference cell type information in annotation tables \n"
   ]
  },
  {
   "cell_type": "markdown",
   "id": "f4f5ec1a",
   "metadata": {},
   "source": [
    "<div style=\"border-left: 3px solid #000; padding: 1px; padding-left: 10px; background: #F0FAFF; \">\n",
    "\n",
    "### Introduction \n",
    "\n",
    "#### Exploring the Female Adult Nerve Cord (FANC) dataset in neuroglancer \n",
    "    \n",
    "We will focus on a dataset from reconstructed femoral chordotonal (FeCO) sensory axons in the front, left leg of the fruit fly and their postsynaptic partners (threshold of 3 synaptic connections). The FeCO is the largest proprioceptive organ in the fruit fly leg and detects position, movement, and vibration of the leg. There are 152 FeCO neurons in one of the front legs - the cell body is located in the femur of the leg and sends and axon projection to the ventral nerve cord. This sensory information feeds back onto motor circuits to inform behaviors such as walking and postural control. \n",
    "    \n",
    "\n",
    "    \n",
    "In FANC, there are 80 FeCO axons that have been reconstructed in the front, left leg. You can view the neurons in this dataset using __[neuroglancer](https://github.com/google/neuroglancer)__, a web platform for visualizing EM datasets and reconstructed neurons. \n",
    "\n",
    "\n",
    "There are five distinct cell types named for their distinct morphological features (claw, hook, club) and functional features (tuned to leg extension or leg flexion). Click the links to view the reconstructed sensory axons in neuroglancer. \n",
    "\n",
    "1. __[claw extension](https://neuromancer-seung-import.appspot.com/?json_url=https://raw.githubusercontent.com/sagrawal/Lee_2024/main/jsons/clawE.json)__  (position) \n",
    "\n",
    "2. __[claw flexion](https://neuromancer-seung-import.appspot.com/?json_url=https://raw.githubusercontent.com/sagrawal/Lee_2024/main/jsons/clawF.json)__  (position) \n",
    "\n",
    "3. __[hook extension](https://neuromancer-seung-import.appspot.com/?json_url=https://raw.githubusercontent.com/sagrawal/Lee_2024/main/jsons/hookE.json)__  (movement) \n",
    "\n",
    "4. __[hook flexion](https://neuromancer-seung-import.appspot.com/?json_url=https://raw.githubusercontent.com/sagrawal/Lee_2024/main/jsons/hookF.json)__  (movement) \n",
    "\n",
    "\n",
    "5. __[club](https://neuromancer-seung-import.appspot.com/?json_url=https://raw.githubusercontent.com/sagrawal/Lee_2024/main/jsons/clubs.json)__  (movement and vibration) \n",
    "\n",
    "\n",
    "Neurons postsynaptic to FeCO neurons \n",
    "__[postsynaptic neurons](https://neuromancer-seung-import.appspot.com/?json_url=https://raw.githubusercontent.com/sagrawal/Lee_2024/main/jsons/all_downstream.json)__\n",
    "\n",
    "\n",
    "#### Programmatically accessing the dataset \n",
    "\n",
    "Automated synapse detection was applied to the entire FANC dataset. We can query the position of every synapse and identify neurons that are synaptically connected to build synapse-level wiring diagrams. We will be working with a dataframe that contains all of the \n",
    "    \n",
    "In this dataset, we can see the position of every synapse and use this information to identify neurons that are synaptically connected. We will work with a synapse table of the FeCO sensory axons, in other words, a table containing the annotations for every synapse a FeCO neuron makes with a postsynaptic partner. "
   ]
  },
  {
   "cell_type": "markdown",
   "id": "f64e6768",
   "metadata": {},
   "source": [
    "<div style=\"border-left: 3px solid #000; padding: 1px; padding-left: 10px; background: #F0FAFF; \">\n",
    "\n",
    "#### Import the relevant python libraries and data"
   ]
  },
  {
   "cell_type": "code",
   "execution_count": null,
   "id": "00e73a27",
   "metadata": {},
   "outputs": [],
   "source": [
    "import pandas as pd\n",
    "import matplotlib.pyplot as plt \n",
    "import seaborn as sns\n",
    "import numpy as np \n",
    "\n",
    "%config InlineBackend.figure_format = 'retina' # retina display mode to make figures crisp \n"
   ]
  },
  {
   "cell_type": "code",
   "execution_count": null,
   "id": "9fe22bbe",
   "metadata": {},
   "outputs": [],
   "source": [
    "# import the csvs as dataframes \n",
    "\n",
    "# FeCO sensory neuron synapse table \n",
    "synapse_df = pd.read_csv(\"synapse_df.csv\")\n",
    "\n",
    "# Annotation tables to reference cell type information \n",
    "feco_df_all = pd.read_csv(\"feco_df_all.csv\") # cell type information for FeCO sensory axons \n",
    "downstream_feco_axons = pd.read_csv(\"downstream_feco_axons.csv\") # cell type information for postsynaptic partners of FeCO \n",
    "\n",
    "# Bonus annotation table \n",
    "mn_df = pd.read_csv(\"mn_df.csv\") # cell type information for leg motor neurons \n"
   ]
  },
  {
   "cell_type": "markdown",
   "id": "c289f95d",
   "metadata": {},
   "source": [
    "<div style=\"border-left: 3px solid #000; padding: 1px; padding-left: 10px; background: #F0FAFF; \">\n",
    "\n",
    "### Dataset Description\n",
    "\n",
    "We will primarily work with synapse_df: a dataframe that contains information on all of the synaptic connections between the FeCO sensory axons and their downstream partners. Each row represents a synaptic connection between a presynaptic neuron (pre_pt_root_id) and a postsynaptic neuron (post_pt_root_id). \n",
    "  \n",
    "    "
   ]
  },
  {
   "cell_type": "markdown",
   "id": "bc24f49e",
   "metadata": {},
   "source": [
    "<table style={float:left}>\n",
    "    <tr>\n",
    "        <td><h4>column</h4></td>\n",
    "        <td><h4>description</h4></td>\n",
    "    </tr> \n",
    "    <tr>\n",
    "        <td>id</td>\n",
    "        <td>id for this synapse annotation</td>\n",
    "    </tr>\n",
    "    <tr>\n",
    "        <td>pre_pt_supervoxel_id</td>\n",
    "        <td>a bookkeeping column for the presynaptic side </td>\n",
    "    </tr>\n",
    "    <tr>\n",
    "        <td>pre_pt_root_id</td>\n",
    "        <td>id for the pre synaptic neuron</td>\n",
    "    </tr>\n",
    "    <tr>\n",
    "        <td>post_pt_supervoxel_id</td>\n",
    "        <td>Same bookkeeping column as pre_pt but for the post synaptic side.</td>\n",
    "    </tr>\n",
    "    <tr>\n",
    "        <td>post_pt_root_id</td>\n",
    "        <td>Same as pre_pt but for the post synaptic side</td>\n",
    "    </tr>\n",
    "    <tr>\n",
    "        <td>score</td>\n",
    "        <td>The size of the synaptic cleft in units of 4.3,4.3,45 voxels.</td>\n",
    "    </tr>\n",
    "    <tr>\n",
    "        <td>pre_pt_position</td>\n",
    "        <td>a point that is in the pre-synaptic terminal of this synapse (in voxels) </td>\n",
    "    </tr>\n",
    "    <tr>\n",
    "        <td>post_pt_position</td>\n",
    "        <td>Same as pre_pt but for the post synaptic side.</td>\n",
    "    </tr>\n",
    "\n",
    "</table>"
   ]
  },
  {
   "cell_type": "code",
   "execution_count": null,
   "id": "fce1f7fd",
   "metadata": {},
   "outputs": [],
   "source": [
    "synapse_df"
   ]
  },
  {
   "cell_type": "markdown",
   "id": "9b182354",
   "metadata": {},
   "source": [
    "<div style=\"border-left: 3px solid #000; padding: 1px; padding-left: 10px; background: #F0FAFF; \">\n",
    "\n",
    "### Basic Queries \n",
    "\n",
    "Let's look at one sensory neuron in pre_pt_root_id and query some basic features: <br> \n",
    "    1. number of synapses <br> \n",
    "    2. number of unique postsynaptic partners <br> \n",
    "    3. top postsynaptic partners\n",
    "\n",
    "#### Task: \n",
    "Create a dataframe with only the connections downstream of a single sensory neuron of interest (pre_pt_root_id). "
   ]
  },
  {
   "cell_type": "code",
   "execution_count": null,
   "id": "483abb33",
   "metadata": {
    "scrolled": false
   },
   "outputs": [],
   "source": [
    "neuron_id = 648518346474593218\n",
    "single_synapse_df = synapse_df[synapse_df.pre_pt_root_id == neuron_id]\n",
    "\n",
    "single_synapse_df"
   ]
  },
  {
   "cell_type": "markdown",
   "id": "6fff7799",
   "metadata": {},
   "source": [
    "<div style=\"border-left: 3px solid #000; padding: 1px; padding-left: 10px; background: #F0FAFF; \">\n",
    "\n",
    "#### Task: \n",
    "How many synapses does this sensory neuron have? "
   ]
  },
  {
   "cell_type": "code",
   "execution_count": null,
   "id": "c7cd190e",
   "metadata": {},
   "outputs": [],
   "source": []
  },
  {
   "cell_type": "markdown",
   "id": "7a187bf1",
   "metadata": {},
   "source": [
    "<div style=\"border-left: 3px solid #000; padding: 1px; padding-left: 10px; background: #F0FAFF; \">\n",
    "\n",
    "#### Task: \n",
    "How many neurons are downstream of this sensory neuron? "
   ]
  },
  {
   "cell_type": "code",
   "execution_count": null,
   "id": "05ce7a3f",
   "metadata": {},
   "outputs": [],
   "source": []
  },
  {
   "cell_type": "markdown",
   "id": "cc476400",
   "metadata": {},
   "source": [
    "<div style=\"border-left: 3px solid #000; padding: 1px; padding-left: 10px; background: #F0FAFF; \">\n",
    "\n",
    "\n",
    "What are the top 10 postsynaptic partners? <br>\n",
    "    \n",
    "Neurons typically make multiple synapses onto each other. The more synapses that connect a pair of neurons, the stronger the strength of their connection. In synapse_df, each row represents a single synaptic connection, so many of the rows are redundant. We can count the redundant rows to quantify the number of synapses between connected neurons and resort the dataframe to identify the top downstream partners. \n",
    "<br><br>"
   ]
  },
  {
   "cell_type": "code",
   "execution_count": null,
   "id": "e08561fc",
   "metadata": {},
   "outputs": [],
   "source": [
    "# this code will count the number of synapses between presynaptic and postsynaptic partners \n",
    "# the logic is as follows: \n",
    "# 1. groupby counts the number of rows with the same pre_pt_root_id and post_pt_root_id \n",
    "# 2. reset_index creates a new column called \"number_of_synapses\" with the counted rows \n",
    "# 3. sort_values will reorganize the dataframe by the defined column \n",
    "# 4. reset_index(drop = True) again will drop the index \n",
    "\n",
    "single_syn_per_conn = single_synapse_df.groupby(['pre_pt_root_id','post_pt_root_id'])['post_pt_root_id'].count()\\\n",
    "                     .reset_index(name=\"number_of_synapses\")\\\n",
    "                     .sort_values(by=['number_of_synapses'], ascending=False)\\\n",
    "                     .reset_index(drop=True)\n",
    "\n",
    "# Look at the first 10 rows\n",
    "single_syn_per_conn[0:10]"
   ]
  },
  {
   "cell_type": "markdown",
   "id": "3c368f96",
   "metadata": {},
   "source": [
    "<div style=\"border-left: 3px solid #000; padding: 1px; padding-left: 10px; background: #F0FAFF; \">\n",
    "\n",
    "#### Task: \n",
    "View the top 10 partners in neuroglancer <br> \n",
    "\n",
    "Let's look at the anatomy of the top 10 partners in neuroglancer. Copy the neuron ids (segment IDs) and paste them into the right hand bar in neuroglancer to look at the anatomy of the downstream partners. \n",
    "    \n",
    "__[Neuroglancer link to view postsynaptic neurons (public view).](https://neuromancer-seung-import.appspot.com/?json_url=https://raw.githubusercontent.com/sagrawal/Lee_2024/main/jsons/all_downstream.json)__\n",
    "\n",
    "Notes: Use the blue check box above the ids to toggle the view of neurons on/off. Paste the ids of interest into the white box to toggle the view of the relevant neurons on.\n"
   ]
  },
  {
   "cell_type": "code",
   "execution_count": null,
   "id": "cdd96497",
   "metadata": {},
   "outputs": [],
   "source": []
  },
  {
   "cell_type": "markdown",
   "id": "cb2f377d",
   "metadata": {},
   "source": [
    "#### Distribution of the number of synapses \n",
    "\n",
    "Now that we know how to query the number of synapses of a single neuron, let's look at the distribution of the number of synapses for all of the sensory neurons in the dataset. \n"
   ]
  },
  {
   "cell_type": "code",
   "execution_count": null,
   "id": "7459d6ce",
   "metadata": {
    "scrolled": true
   },
   "outputs": [],
   "source": [
    "synapse_counts = [] \n",
    "\n",
    "for idx in synapse_df.pre_pt_root_id.unique().tolist(): # iterate through all of the unique pre_pt_root_ids \n",
    "    synapse_counts.append(len(synapse_df[synapse_df.pre_pt_root_id == idx])) # calculate and append the number of synapses for each pre_pt_root_id \n",
    "    \n",
    "# plot the distribution using histplot \n",
    "sns.histplot(synapse_counts) \n",
    "plt.xlabel('number of synapses')\n",
    "\n"
   ]
  },
  {
   "cell_type": "markdown",
   "id": "2e16346b",
   "metadata": {},
   "source": [
    "#### Distribution of the number of downstream partners \n",
    "\n",
    "#### Task: \n",
    "\n",
    "repeat as before but plot the distribution of the number of unique partners downstream of FeCO sensory neurons"
   ]
  },
  {
   "cell_type": "code",
   "execution_count": null,
   "id": "311c73e3",
   "metadata": {},
   "outputs": [],
   "source": []
  },
  {
   "cell_type": "markdown",
   "id": "beaca0ad",
   "metadata": {},
   "source": [
    "<div style=\"border-left: 3px solid #000; padding: 1px; padding-left: 10px; background: #F0FAFF; \">\n",
    "\n",
    "### Generate a connectivity matrix \n",
    "\n",
    "Let's look at the connectivity between all of the presynaptic sensory neurons and their postsynaptic partners. The following code will generate a connectivity matrix, quantifying the number of synapses between the presynaptic neurons (pre_pt_root_id) and postsynaptic neurons (post_pt_root_id). We can plot the connectivity matrix as a heatmap. "
   ]
  },
  {
   "cell_type": "code",
   "execution_count": null,
   "id": "0677e42d",
   "metadata": {},
   "outputs": [],
   "source": [
    "#crosstab will count the number of redundant rows and generate a matrix with \n",
    "# pre_pt_root_ids as the rows and post_pt_root_ids as the columns \n",
    "\n",
    "conn_mat = pd.crosstab(synapse_df['pre_pt_root_id'],synapse_df['post_pt_root_id']) \n",
    "conn_mat\n"
   ]
  },
  {
   "cell_type": "code",
   "execution_count": null,
   "id": "f0865e72",
   "metadata": {},
   "outputs": [],
   "source": [
    "# Plot the connectivity matrix as a heatmap \n",
    "\n",
    "sns.set (rc = {'figure.figsize':(10,5)})\n",
    "sns.heatmap(conn_mat, \n",
    "            cmap = 'Blues', \n",
    "            xticklabels = [], # turn off the clunky segid labels for now \n",
    "            yticklabels = [], \n",
    "            cbar_kws={'label': 'number of synapses'})\n",
    "\n",
    "plt.xlabel('postsynaptic neurons', fontsize = 18)\n",
    "plt.ylabel('sensory neurons', fontsize = 18)\n",
    "plt.title('connectivity matrix', fontsize = 18)\n",
    "plt.rcParams.update({'font.size': 12})\n",
    "plt.show()"
   ]
  },
  {
   "cell_type": "markdown",
   "id": "41716016",
   "metadata": {},
   "source": [
    "<div style=\"border-left: 3px solid #000; padding: 1px; padding-left: 10px; background: #F0FAFF; \">\n",
    "\n",
    "### Annotation Tables\n",
    "    \n",
    "Since this is drawing from the raw data, it's hard to make any meaningful inferences. We can reference the annotation tables to get information on the cell types associated with the ids. \n",
    "\n",
    "We will be working with two annotation tables: <br> \n",
    "\n",
    "**feco_df_all** - contains cell type information for the FeCO sensory axons \n",
    "    \n",
    "**downstream_feco_axons** - contains cell type information for the neurons postsynaptic to FeCO sensory axons\n",
    "       "
   ]
  },
  {
   "cell_type": "markdown",
   "id": "d758f9cc",
   "metadata": {},
   "source": [
    "<div style=\"border-left: 3px solid #000; padding: 1px; padding-left: 10px; background: #F0FAFF; \">\n",
    "\n",
    "### Cell type information \n",
    "\n",
    "These annotation tables have a few more columns with cell type information compared to the synapse dataframe. <br><br> \n",
    "**cell_type**: <br> \n",
    ">feco_df_all: FeCO sensory cell type \n",
    "<br>\n",
    "    \n",
    ">downstream_feco_axons: hemilineage identity (neurons within a hemilineage share a developmental history and are anatomically similar and release the same neurotransmitter)  \n",
    "    \n",
    "    \n",
    "**classification_system**: <br> \n",
    ">feco_df_all: denotes which leg neuropil the sensory axon is in. T1/T2/T3 are the front, middle, or hind legs. L/R are the left or right sides. \n",
    "    <br> \n",
    "\n",
    "    \n",
    ">downstream_feco_axons: morphological class of the neuron, either:\n",
    ">>**ascending**: soma in the VNC, axon ascends to the brain <br> <br> \n",
    "**intersegmental**: neuron has axons and dendrite projections that span multiple leg neuropils <br><br>\n",
    "**local**: neuron is confined to a single leg neuropil <br> <br> \n",
    "**MN**: a motor neuron with a cell body and dendrites in the VNC, axon projection exits through a motor nerve to contact muscle fibers <br> <br> \n",
    "**sensory**: neuron with a cell body in the periphery and an axon that enters the VNC through a sensory nerve <br> <br> \n",
    "    ** note that some neurons can be both ascending and intersegmental <br> \n",
    "    \n",
    "   \n"
   ]
  },
  {
   "cell_type": "code",
   "execution_count": null,
   "id": "f949bcc7",
   "metadata": {
    "scrolled": true
   },
   "outputs": [],
   "source": [
    "feco_df_all"
   ]
  },
  {
   "cell_type": "code",
   "execution_count": null,
   "id": "ca5f1a67",
   "metadata": {},
   "outputs": [],
   "source": [
    "downstream_feco_axons"
   ]
  },
  {
   "cell_type": "code",
   "execution_count": null,
   "id": "cbfaa86b",
   "metadata": {},
   "outputs": [],
   "source": [
    "def get_cell_types(idx_input, annotation_table, cell_or_class = 'cell'): \n",
    "    \n",
    "    # inputs: \n",
    "#               idx_input: list of segids to reference cell type information \n",
    "#               annotation table: table with cell type information for referencing \n",
    "#               cell_or_class: 'cell' for referencing cell_type column\n",
    "#                             'class' for referencing classification_system column \n",
    "                    \n",
    "    # outputs: \n",
    "#             cell_type_names: list of cell type names in the same order as the segid input list \n",
    "\n",
    "    cell_type_names = [] \n",
    "    \n",
    "    for idx in idx_input: # iterate through segids \n",
    "        if idx in annotation_table.pt_root_id.tolist(): \n",
    "            if cell_or_class =='cell': \n",
    "                cell_type = annotation_table.cell_type[annotation_table.pt_root_id == idx].tolist()[0] # find row that matches the segid and grab cell type name \n",
    "                cell_id = annotation_table.id[annotation_table.pt_root_id == idx].tolist()[0] # also grab the cell type id \n",
    "                cell_type_names.append(cell_type) # put elements together as a string \n",
    "            \n",
    "            elif cell_or_class == 'class': \n",
    "                cell_type_names.append(annotation_table.classification_system[annotation_table.pt_root_id == idx].tolist()[0]) # same as above but references classification_system column \n",
    "        else: \n",
    "            cell_type_names.append('unknown') # if segid is not in the table, save as unknown \n",
    "            \n",
    "    return cell_type_names"
   ]
  },
  {
   "cell_type": "markdown",
   "id": "419f2bae",
   "metadata": {},
   "source": [
    "<div style=\"border-left: 3px solid #000; padding: 1px; padding-left: 10px; background: #F0FAFF; \">\n",
    "\n",
    "### Referencing annotation tables <br> \n",
    "Using the function above, we will: \n",
    "    \n",
    "1. iterate through the pre_pt_root_ids in synapse_df and reference the cell type names from the feco_df_all annotation table \n",
    "2. create a new column called \"sens_cell_type\" in synapse_df and fill with the cell type names "
   ]
  },
  {
   "cell_type": "code",
   "execution_count": null,
   "id": "6d22fbe9",
   "metadata": {},
   "outputs": [],
   "source": [
    "synapse_df['sens_cell_type'] = get_cell_types(synapse_df.pre_pt_root_id.tolist(), feco_df_all, 'cell')"
   ]
  },
  {
   "cell_type": "code",
   "execution_count": null,
   "id": "1a5f7c2e",
   "metadata": {
    "scrolled": true
   },
   "outputs": [],
   "source": [
    "synapse_df"
   ]
  },
  {
   "cell_type": "markdown",
   "id": "b98c768d",
   "metadata": {},
   "source": [
    "<div style=\"border-left: 3px solid #000; padding: 1px; padding-left: 10px; background: #F0FAFF; \">\n",
    "\n",
    "### Task: \n",
    "    \n",
    "Repeat for the post_pt_root_ids, referencing the classification_system column in the downstream_feco_axons table. Create a new column called \"post_cell_type\". "
   ]
  },
  {
   "cell_type": "code",
   "execution_count": null,
   "id": "b21b2529",
   "metadata": {},
   "outputs": [],
   "source": []
  },
  {
   "cell_type": "markdown",
   "id": "67bf279c",
   "metadata": {},
   "source": [
    "<div style=\"border-left: 3px solid #000; padding: 1px; padding-left: 10px; background: #F0FAFF; \">\n",
    "\n",
    "Generate a new connectivity matrix but looking at the connectivity between the sensory cell types and different classifications in the postsynaptic layer. "
   ]
  },
  {
   "cell_type": "code",
   "execution_count": null,
   "id": "6f4b9c85",
   "metadata": {},
   "outputs": [],
   "source": [
    "cell_type_adj = pd.crosstab(synapse_df['sens_cell_type'],synapse_df['post_cell_type']) \n",
    "\n",
    "sns.heatmap(cell_type_adj, \n",
    "            cmap = 'Blues', \n",
    "            cbar_kws={'label': 'number of synapses'})\n",
    "plt.yticks(rotation = 0)\n",
    "plt.xlabel('cell class')\n",
    "plt.ylabel('sensory neuron')\n"
   ]
  },
  {
   "cell_type": "markdown",
   "id": "a0f01e87",
   "metadata": {},
   "source": [
    "<div style=\"border-left: 3px solid #000; padding: 1px; padding-left: 10px; background: #F0FAFF; \">\n",
    "\n",
    "### Sensory to motor connections \n",
    "    \n",
    "The FeCO sensory neurons have diverse connectivity patterns. For example, the position and movement tuned neurons (claw and hook) synapse onto motor neurons while the vibration-tuned neurons (club) do not. The position- and movement- tuned (claw and hook) neurons synapse directly onto motor neurons, forming reflexes. The vibration-tuned club neurons, however, do not synapse onto motor neurons. Let's unpack the connectivity between the sensory cell types and motor neurons even further. \n",
    "\n",
    "Do the extension-tuned and flexion-tuned neurons synapse onto the same or different sets of motor neurons? \n",
    "\n",
    "#### Final Task: Construct a connectivity matrix of sensory neurons and individual motor neurons. Plot as a heatmap. \n",
    "\n",
    "1. Reference the cell_type column of the motor neuron annotation table (mn_df) to get the motor neuron cell type names. Save as a new column in synapse_df called 'mn_names'. \n",
    "    \n",
    "2. Construct a connectivity matrix of sensory neurons and individual motor neurons. \n",
    "3. Plot as a heat map. "
   ]
  },
  {
   "cell_type": "code",
   "execution_count": null,
   "id": "a246d476",
   "metadata": {},
   "outputs": [],
   "source": [
    "# use get_cell_types to reference the mn_df table to the post_pt_root_ids \n",
    "synapse_df['mn_names'] = \n",
    "\n",
    "\n",
    "# construct connectivity matrix between FeCO neurons and MNs \n",
    "cell_type_adj = \n"
   ]
  }
 ],
 "metadata": {
  "kernelspec": {
   "display_name": "Python 3 (ipykernel)",
   "language": "python",
   "name": "python3"
  },
  "language_info": {
   "codemirror_mode": {
    "name": "ipython",
    "version": 3
   },
   "file_extension": ".py",
   "mimetype": "text/x-python",
   "name": "python",
   "nbconvert_exporter": "python",
   "pygments_lexer": "ipython3",
   "version": "3.10.9"
  }
 },
 "nbformat": 4,
 "nbformat_minor": 5
}
